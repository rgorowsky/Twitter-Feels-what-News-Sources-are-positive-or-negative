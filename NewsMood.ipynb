{
 "cells": [
  {
   "cell_type": "code",
   "execution_count": 37,
   "metadata": {},
   "outputs": [
    {
     "ename": "AttributeError",
     "evalue": "module 'tweepy' has no attribute 'parsers'",
     "output_type": "error",
     "traceback": [
      "\u001b[1;31m---------------------------------------------------------------------------\u001b[0m",
      "\u001b[1;31mAttributeError\u001b[0m                            Traceback (most recent call last)",
      "\u001b[1;32m<ipython-input-37-a17a1142dfc1>\u001b[0m in \u001b[0;36m<module>\u001b[1;34m()\u001b[0m\n\u001b[0;32m     19\u001b[0m \u001b[0mauth\u001b[0m \u001b[1;33m=\u001b[0m \u001b[0mtweepy\u001b[0m\u001b[1;33m.\u001b[0m\u001b[0mOAuthHandler\u001b[0m\u001b[1;33m(\u001b[0m\u001b[0mconsumer_key\u001b[0m\u001b[1;33m,\u001b[0m \u001b[0mconsumer_secret\u001b[0m\u001b[1;33m)\u001b[0m\u001b[1;33m\u001b[0m\u001b[0m\n\u001b[0;32m     20\u001b[0m \u001b[0mauth\u001b[0m\u001b[1;33m.\u001b[0m\u001b[0mset_access_token\u001b[0m\u001b[1;33m(\u001b[0m\u001b[0maccess_token\u001b[0m\u001b[1;33m,\u001b[0m \u001b[0maccess_token_secret\u001b[0m\u001b[1;33m)\u001b[0m\u001b[1;33m\u001b[0m\u001b[0m\n\u001b[1;32m---> 21\u001b[1;33m \u001b[0mapi\u001b[0m \u001b[1;33m=\u001b[0m \u001b[0mtweepy\u001b[0m\u001b[1;33m.\u001b[0m\u001b[0mAPI\u001b[0m\u001b[1;33m(\u001b[0m\u001b[0mauth\u001b[0m\u001b[1;33m,\u001b[0m \u001b[0mparser\u001b[0m\u001b[1;33m=\u001b[0m\u001b[0mtweepy\u001b[0m\u001b[1;33m.\u001b[0m\u001b[0mparsers\u001b[0m\u001b[1;33m.\u001b[0m\u001b[0mJSONParser\u001b[0m\u001b[1;33m(\u001b[0m\u001b[1;33m)\u001b[0m\u001b[1;33m)\u001b[0m\u001b[1;33m\u001b[0m\u001b[0m\n\u001b[0m",
      "\u001b[1;31mAttributeError\u001b[0m: module 'tweepy' has no attribute 'parsers'"
     ]
    }
   ],
   "source": [
    "# Import all packages and authentification details\n",
    "\n",
    "# packages lists\n",
    "from vaderSentiment.vaderSentiment import SentimentIntensityAnalyzer\n",
    "analyzer = SentimentIntensityAnalyzer()\n",
    "import tweepy\n",
    "import pandas as pd\n",
    "import numpy as np\n",
    "import time\n",
    "import pprint\n",
    "import json\n",
    "import matplotlib \n",
    "import matplotlib.pyplot as plt\n",
    "import seaborn\n",
    "from config import (consumer_key, consumer_secret,\n",
    "                    access_token, access_token_secret)\n",
    "\n",
    "# Setup Tweepy API Authentication\n",
    "auth = tweepy.OAuthHandler(consumer_key, consumer_secret)\n",
    "auth.set_access_token(access_token, access_token_secret)\n",
    "api = tweepy.API(auth, parser=tweepy.parsers.JSONParser())"
   ]
  },
  {
   "cell_type": "code",
   "execution_count": 32,
   "metadata": {},
   "outputs": [],
   "source": [
    "# Target User Account\n",
    "\n",
    "target_users = [ \"BBCNews\",\n",
    "\"CBSNews\",\n",
    "\"CNN\",\n",
    "\"FoxNews\",\n",
    "\"nytimes\"]"
   ]
  },
  {
   "cell_type": "code",
   "execution_count": 33,
   "metadata": {},
   "outputs": [
    {
     "ename": "TypeError",
     "evalue": "'Status' object is not subscriptable",
     "output_type": "error",
     "traceback": [
      "\u001b[1;31m---------------------------------------------------------------------------\u001b[0m",
      "\u001b[1;31mTypeError\u001b[0m                                 Traceback (most recent call last)",
      "\u001b[1;32m<ipython-input-33-12b93608bfd0>\u001b[0m in \u001b[0;36m<module>\u001b[1;34m()\u001b[0m\n\u001b[0;32m     26\u001b[0m         \u001b[1;31m#another for loop\u001b[0m\u001b[1;33m\u001b[0m\u001b[1;33m\u001b[0m\u001b[0m\n\u001b[0;32m     27\u001b[0m         \u001b[1;32mfor\u001b[0m \u001b[0mtweet\u001b[0m \u001b[1;32min\u001b[0m \u001b[0mpublic_tweets\u001b[0m\u001b[1;33m:\u001b[0m\u001b[1;33m\u001b[0m\u001b[0m\n\u001b[1;32m---> 28\u001b[1;33m             \u001b[0mtweet_data\u001b[0m\u001b[1;33m[\u001b[0m\u001b[1;34m\"twt_source\"\u001b[0m\u001b[1;33m]\u001b[0m\u001b[1;33m.\u001b[0m\u001b[0mappend\u001b[0m\u001b[1;33m(\u001b[0m\u001b[0mtweet\u001b[0m\u001b[1;33m[\u001b[0m\u001b[1;34m\"user\"\u001b[0m\u001b[1;33m]\u001b[0m\u001b[1;33m[\u001b[0m\u001b[1;34m\"name\"\u001b[0m\u001b[1;33m]\u001b[0m\u001b[1;33m)\u001b[0m\u001b[1;33m\u001b[0m\u001b[0m\n\u001b[0m\u001b[0;32m     29\u001b[0m             \u001b[0mtweet_data\u001b[0m\u001b[1;33m[\u001b[0m\u001b[1;34m\"twt_text\"\u001b[0m\u001b[1;33m]\u001b[0m\u001b[1;33m.\u001b[0m\u001b[0mappend\u001b[0m\u001b[1;33m(\u001b[0m\u001b[0mtweet\u001b[0m\u001b[1;33m[\u001b[0m\u001b[1;34m\"text\"\u001b[0m\u001b[1;33m]\u001b[0m\u001b[1;33m)\u001b[0m\u001b[1;33m\u001b[0m\u001b[0m\n\u001b[0;32m     30\u001b[0m             \u001b[0mtweet_data\u001b[0m\u001b[1;33m[\u001b[0m\u001b[1;34m\"twt_date\"\u001b[0m\u001b[1;33m]\u001b[0m\u001b[1;33m.\u001b[0m\u001b[0mappend\u001b[0m\u001b[1;33m(\u001b[0m\u001b[0mtweet\u001b[0m\u001b[1;33m[\u001b[0m\u001b[1;34m\"created_at\"\u001b[0m\u001b[1;33m]\u001b[0m\u001b[1;33m)\u001b[0m\u001b[1;33m\u001b[0m\u001b[0m\n",
      "\u001b[1;31mTypeError\u001b[0m: 'Status' object is not subscriptable"
     ]
    }
   ],
   "source": [
    "# THIS CELL WILL GRAB THE \"\", \"\", AND \"\" VALUES AND PUT THEM INTO THE LISTS MADE IN THE PREVIOUS CELL \n",
    "\n",
    "#pretty print\n",
    "#pp = pprint.PrettyPrinter(indent=4)\n",
    "\n",
    "#create the dictionary that we will put our columns (as lists) in\n",
    "counter = 0 \n",
    "\n",
    "tweet_data = {\"twt_source\": [],\n",
    "             \"twt_text\": [],\n",
    "             \"twt_date\": [],\n",
    "             \"twt_vader\": [],\n",
    "             \"twt_neg\":  [],\n",
    "             \"twt_pos\": [],\n",
    "              \"twt_neu\": [],\n",
    "            \"twt_counter\": []}\n",
    "\n",
    "#second for loop, basically will loop through the different news sources\n",
    "for users in target_users:\n",
    "    \n",
    "    \n",
    "    # Loop through 5 pages of tweets (total 100 tweets per target user)\n",
    "    for x in range(0, 5):\n",
    "        public_tweets = api.user_timeline(users, page=x)\n",
    "        \n",
    "        #another for loop\n",
    "        for tweet in public_tweets:\n",
    "            tweet_data[\"twt_source\"].append(tweet[\"user\"][\"name\"])  \n",
    "            tweet_data[\"twt_text\"].append(tweet[\"text\"])            \n",
    "            tweet_data[\"twt_date\"].append(tweet[\"created_at\"])  \n",
    "            tweet_data[\"twt_counter\"].append(counter)\n",
    "                \n",
    "            tweet_data[\"twt_vader\"].append(analyzer.polarity_scores(tweet_data[\"twt_text\"][counter])[\"compound\"])\n",
    "            tweet_data[\"twt_neg\"].append(analyzer.polarity_scores(tweet_data[\"twt_text\"][counter])[\"neg\"])\n",
    "            tweet_data[\"twt_pos\"].append(analyzer.polarity_scores(tweet_data[\"twt_text\"][counter])[\"pos\"])\n",
    "            tweet_data[\"twt_neu\"].append(analyzer.polarity_scores(tweet_data[\"twt_text\"][counter])[\"neu\"])\n",
    "            counter = counter + 1\n",
    "            \n",
    "            #pp.pprint(tweet)\n",
    "            #print(tweet_data[\"twt_text\"][0])\n",
    "            # Run analysis\n",
    "            # test = analyzer.polarity_scores(tweet_data[\"twt_text\"][0])[\"neu\"]\n",
    "            # print(test)\n",
    "            \n",
    "            #pp.pprint(tweet_data[\"twt_text\"])\n",
    "            #print(tweet)"
   ]
  },
  {
   "cell_type": "code",
   "execution_count": 27,
   "metadata": {},
   "outputs": [
    {
     "data": {
      "text/html": [
       "<div>\n",
       "<style scoped>\n",
       "    .dataframe tbody tr th:only-of-type {\n",
       "        vertical-align: middle;\n",
       "    }\n",
       "\n",
       "    .dataframe tbody tr th {\n",
       "        vertical-align: top;\n",
       "    }\n",
       "\n",
       "    .dataframe thead th {\n",
       "        text-align: right;\n",
       "    }\n",
       "</style>\n",
       "<table border=\"1\" class=\"dataframe\">\n",
       "  <thead>\n",
       "    <tr style=\"text-align: right;\">\n",
       "      <th></th>\n",
       "      <th>twt_source</th>\n",
       "      <th>twt_text</th>\n",
       "      <th>twt_date</th>\n",
       "      <th>twt_vader</th>\n",
       "      <th>twt_neg</th>\n",
       "      <th>twt_pos</th>\n",
       "      <th>twt_neu</th>\n",
       "      <th>twt_counter</th>\n",
       "    </tr>\n",
       "  </thead>\n",
       "  <tbody>\n",
       "  </tbody>\n",
       "</table>\n",
       "</div>"
      ],
      "text/plain": [
       "Empty DataFrame\n",
       "Columns: [twt_source, twt_text, twt_date, twt_vader, twt_neg, twt_pos, twt_neu, twt_counter]\n",
       "Index: []"
      ]
     },
     "execution_count": 27,
     "metadata": {},
     "output_type": "execute_result"
    }
   ],
   "source": [
    "# plot the first \n",
    "\n",
    "# put the dictionary into a data frame\n",
    "tweet_data_df = pd.DataFrame.from_dict(tweet_data)\n",
    "tweet_data_df[\"twt_source\"].unique()\n",
    "\n",
    "tweet_data_df.head()"
   ]
  },
  {
   "cell_type": "code",
   "execution_count": null,
   "metadata": {},
   "outputs": [],
   "source": [
    "tweet_data_df.count()"
   ]
  },
  {
   "cell_type": "code",
   "execution_count": null,
   "metadata": {},
   "outputs": [],
   "source": [
    "# second plot\n",
    "second_one = tweet_data_df.groupby([\"twt_source\"]).mean()[\"twt_vader\"]\n",
    "pd.DataFrame(second_one)\n",
    "second_one[0]\n",
    "\n",
    "# make x and y variables\n",
    "y_data = [second_one[\n",
    "x_data = [np.arange(len(second_one)])\n",
    "\n",
    "#height = np.arange(len[])\n",
    "# make a bar plot\n",
    "plt.bar(x_data[0], second_one[0])\n",
    "plt.bar(x_data[1], y_data)\n",
    "plt.bar(x_data[2], y_data)          \n",
    "plt.bar(x_data[3], y_data)\n",
    "plt.bar(x_data[4], y_data)"
   ]
  },
  {
   "cell_type": "code",
   "execution_count": null,
   "metadata": {},
   "outputs": [],
   "source": []
  }
 ],
 "metadata": {
  "kernelspec": {
   "display_name": "Python 3",
   "language": "python",
   "name": "python3"
  },
  "language_info": {
   "codemirror_mode": {
    "name": "ipython",
    "version": 3
   },
   "file_extension": ".py",
   "mimetype": "text/x-python",
   "name": "python",
   "nbconvert_exporter": "python",
   "pygments_lexer": "ipython3",
   "version": "3.7.0"
  }
 },
 "nbformat": 4,
 "nbformat_minor": 2
}
